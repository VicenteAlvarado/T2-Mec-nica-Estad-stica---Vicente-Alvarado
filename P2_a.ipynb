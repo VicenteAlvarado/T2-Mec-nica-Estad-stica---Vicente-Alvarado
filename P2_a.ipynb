{
 "cells": [
  {
   "cell_type": "code",
   "execution_count": 1,
   "metadata": {},
   "outputs": [],
   "source": [
    "import numpy as np\n",
    "import random as rd\n",
    "import matplotlib.pyplot as plt\n",
    "from numba import jit"
   ]
  },
  {
   "cell_type": "markdown",
   "metadata": {},
   "source": [
    "### Gray-flip function"
   ]
  },
  {
   "cell_type": "code",
   "execution_count": 2,
   "metadata": {},
   "outputs": [],
   "source": [
    "@jit\n",
    "def gray_flip(lista):\n",
    "\n",
    "    N = len(lista)\n",
    "    tau_list = lista\n",
    "    k = tau_list[0]\n",
    "    spins = [-1 for _ in range(N)]\n",
    "    configs = []\n",
    "    configs.append(spins.copy())\n",
    "\n",
    "    while k < N:\n",
    "        \n",
    "        spins[k - 1] *= -1\n",
    "        configs.append(spins.copy())\n",
    "        \n",
    "        try:\n",
    "            tau_list[k - 1] = tau_list[k]\n",
    "            tau_list[k] = k + 1\n",
    "        except:\n",
    "            print(k)\n",
    "            break\n",
    "        k = tau_list[0]\n",
    "        \n",
    "\n",
    "        if k != 1:\n",
    "            tau_list[0] = 1\n",
    "        \n",
    "    return k, tau_list, configs\n"
   ]
  },
  {
   "cell_type": "code",
   "execution_count": 28,
   "metadata": {},
   "outputs": [
    {
     "name": "stdout",
     "output_type": "stream",
     "text": [
      "[-1, -1, -1, -1, -1]\n",
      "[1, -1, -1, -1, -1]\n",
      "[1, 1, -1, -1, -1]\n",
      "[-1, 1, -1, -1, -1]\n",
      "[-1, 1, 1, -1, -1]\n",
      "[1, 1, 1, -1, -1]\n",
      "[1, -1, 1, -1, -1]\n",
      "[-1, -1, 1, -1, -1]\n",
      "[-1, -1, 1, 1, -1]\n",
      "[1, -1, 1, 1, -1]\n",
      "[1, 1, 1, 1, -1]\n",
      "[-1, 1, 1, 1, -1]\n",
      "[-1, 1, -1, 1, -1]\n",
      "[1, 1, -1, 1, -1]\n",
      "[1, -1, -1, 1, -1]\n",
      "[-1, -1, -1, 1, -1]\n"
     ]
    }
   ],
   "source": [
    "config_red2x2 = gray_flip([1, 2, 3, 4, 5])[2]\n",
    "for i in config_red2x2:\n",
    "    print(i)\n"
   ]
  },
  {
   "cell_type": "markdown",
   "metadata": {},
   "source": [
    "### Energy-ising"
   ]
  },
  {
   "cell_type": "code",
   "execution_count": 3,
   "metadata": {},
   "outputs": [],
   "source": [
    "@jit\n",
    "def Nbr(lista, n, m):\n",
    "    matrix = []\n",
    "    dim = int(np.sqrt(len(lista)))\n",
    "    x = 0\n",
    "    while x < len(lista):\n",
    "        matrix.append(lista[x:x+dim])\n",
    "        x += dim\n",
    "\n",
    "    spin = matrix[n][m]\n",
    "    nbr_down = matrix[(n + 1) % dim][m]\n",
    "    nbr_right = matrix[n][(m + 1) % dim]\n",
    "\n",
    "    return spin, nbr_down, nbr_right\n",
    "    \n",
    "\n",
    "@jit\n",
    "def energy_ising(configuration):\n",
    "    dim = int(np.sqrt(len(configuration)))\n",
    "    E = 0\n",
    "    for i in range(dim):\n",
    "        for j in range(dim):\n",
    "            \n",
    "            nbrs = Nbr(configuration, i, j)\n",
    "            actual_spin = nbrs[0]\n",
    "            spin_down = nbrs[1]\n",
    "            spin_right = nbrs[2]\n",
    "\n",
    "            E -= actual_spin * spin_down\n",
    "            E -= actual_spin * spin_right\n",
    "    \n",
    "    return E"
   ]
  },
  {
   "cell_type": "markdown",
   "metadata": {},
   "source": [
    "### Enumerate-ising"
   ]
  },
  {
   "cell_type": "code",
   "execution_count": 10,
   "metadata": {},
   "outputs": [],
   "source": [
    "@jit\n",
    "def enumerate_ising(N):\n",
    "    densities = [0 for _ in range(0, 2*N+4, 4)]\n",
    "    tau_list = [i for i in range(1, N+2)]\n",
    "    configs = gray_flip(tau_list)[2]\n",
    "    energy_list = [int(i) for i in range(0, 2*N + 4, 4)]\n",
    "    for i in configs:\n",
    "        E = int(energy_ising(i))\n",
    "        if E in energy_list:\n",
    "            index = energy_list.index(E)\n",
    "            densities[index] += 1 \n",
    "\n",
    "    return energy_list, densities"
   ]
  },
  {
   "cell_type": "markdown",
   "metadata": {},
   "source": [
    "#### 2x2"
   ]
  },
  {
   "cell_type": "code",
   "execution_count": 5,
   "metadata": {},
   "outputs": [
    {
     "name": "stderr",
     "output_type": "stream",
     "text": [
      "c:\\Users\\vicex\\AppData\\Local\\Programs\\Python\\Python39\\lib\\site-packages\\awkward\\_cpu_kernels.py:9: DeprecationWarning: pkg_resources is deprecated as an API. See https://setuptools.pypa.io/en/latest/pkg_resources.html\n",
      "  import pkg_resources\n"
     ]
    },
    {
     "name": "stdout",
     "output_type": "stream",
     "text": [
      "E=0 N=12\n",
      "E=4 N=0\n",
      "E=8 N=4\n"
     ]
    }
   ],
   "source": [
    "energy2x2, dens2x2 = enumerate_ising(4)\n",
    "for i in range(len(energy2x2)):\n",
    "    print(f\"E={energy2x2[i]}\", f\"N={dens2x2[i]}\")\n"
   ]
  },
  {
   "cell_type": "markdown",
   "metadata": {},
   "source": [
    "#### 4x4"
   ]
  },
  {
   "cell_type": "code",
   "execution_count": 11,
   "metadata": {},
   "outputs": [
    {
     "name": "stdout",
     "output_type": "stream",
     "text": [
      "E=0 N=20524\n",
      "E=4 N=13568\n",
      "E=8 N=6688\n",
      "E=12 N=1728\n",
      "E=16 N=424\n",
      "E=20 N=64\n",
      "E=24 N=32\n",
      "E=28 N=0\n",
      "E=32 N=2\n",
      "[20524, 13568, 6688, 1728, 424, 64, 32, 0, 2]\n"
     ]
    }
   ],
   "source": [
    "energy4x4, dens4x4 = enumerate_ising(16)\n",
    "for i in range(len(energy4x4)):\n",
    "    print(f\"E={energy4x4[i]}\", f\"N={dens4x4[i]}\")\n",
    "print(dens4x4)"
   ]
  },
  {
   "cell_type": "code",
   "execution_count": null,
   "metadata": {},
   "outputs": [],
   "source": []
  }
 ],
 "metadata": {
  "kernelspec": {
   "display_name": "Python 3",
   "language": "python",
   "name": "python3"
  },
  "language_info": {
   "codemirror_mode": {
    "name": "ipython",
    "version": 3
   },
   "file_extension": ".py",
   "mimetype": "text/x-python",
   "name": "python",
   "nbconvert_exporter": "python",
   "pygments_lexer": "ipython3",
   "version": "3.9.8"
  }
 },
 "nbformat": 4,
 "nbformat_minor": 2
}
