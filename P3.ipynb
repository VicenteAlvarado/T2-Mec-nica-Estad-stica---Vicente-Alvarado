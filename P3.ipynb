{
 "cells": [
  {
   "cell_type": "code",
   "execution_count": 3,
   "metadata": {},
   "outputs": [],
   "source": [
    "import numpy as np\n",
    "import random as rd\n",
    "import matplotlib.pyplot as plt\n",
    "from scipy.constants import k as bolt_cst\n",
    "\n",
    "from numba import jit"
   ]
  },
  {
   "cell_type": "code",
   "execution_count": 56,
   "metadata": {},
   "outputs": [],
   "source": [
    "\n",
    "def field(lista, n_spin):\n",
    "    dim = int(np.sqrt(len(lista)))\n",
    "    matrix = np.array(lista).reshape((dim, dim))\n",
    "\n",
    "    n_spin -= 1\n",
    "    # Calcula la fila y columna correspondientes al número del spin\n",
    "    fila = n_spin // dim\n",
    "    columna = n_spin % dim\n",
    "\n",
    "    if fila == 0:\n",
    "        nbr_down = matrix[fila + 1, columna]\n",
    "        nbr_up = matrix[(fila - 1) % dim, columna]\n",
    "        nbr_left = matrix[fila, columna - 1]\n",
    "        if columna == dim - 1:\n",
    "            nbr_right = matrix[fila, (columna + 1) % dim]\n",
    "        else:\n",
    "            nbr_right = matrix[fila, columna + 1]\n",
    "    \n",
    "    elif fila == dim-1:\n",
    "        nbr_down = matrix[(fila + 1) % dim, columna]\n",
    "        nbr_up = matrix[(fila - 1), columna]\n",
    "        nbr_left = matrix[fila, columna - 1]\n",
    "        if columna == dim - 1:\n",
    "            nbr_right = matrix[fila, (columna + 1) % dim]\n",
    "        else:\n",
    "            nbr_right = matrix[fila, columna + 1]\n",
    "            \n",
    "    else:\n",
    "        nbr_down = matrix[fila + 1, columna]\n",
    "        nbr_up = matrix[(fila - 1), columna]\n",
    "        nbr_left = matrix[fila, columna - 1]\n",
    "        if columna == dim - 1:\n",
    "            nbr_right = matrix[fila, (columna + 1) % dim]\n",
    "        else:\n",
    "            nbr_right = matrix[fila, columna + 1]\n",
    "        \n",
    "    h = nbr_down + nbr_right + nbr_left + nbr_up\n",
    "\n",
    "    return h, nbr_up, nbr_down, nbr_left, nbr_right\n",
    "\n",
    "\n",
    "def energy_ising(configuration):\n",
    "    N = len(configuration)\n",
    "    E = 0\n",
    "    for i in range(1, N):\n",
    "        h = field(configuration, i)[0]\n",
    "        E -= configuration[i] * h\n",
    "\n",
    "    return -np.int64(E/2)\n"
   ]
  },
  {
   "cell_type": "markdown",
   "metadata": {},
   "source": [
    "### Markov-ising"
   ]
  },
  {
   "cell_type": "code",
   "execution_count": 52,
   "metadata": {},
   "outputs": [],
   "source": [
    "\n",
    "def markov_ising(config, E, T):\n",
    "    beta = 1/(T)\n",
    "    k = rd.randint(1, len(config))\n",
    "    h = field(config, k)[0]\n",
    "    delta_E = 2*h*config[k-1]\n",
    "    gamma = np.exp(-1*beta*delta_E)\n",
    "    prob = rd.uniform(0, 1)\n",
    "    if prob < gamma:\n",
    "        E += delta_E\n",
    "        config[k-1] *= -1\n",
    "    else:\n",
    "        E = energy_ising(config)\n",
    "    return config, E"
   ]
  },
  {
   "cell_type": "markdown",
   "metadata": {},
   "source": [
    "### 6x6"
   ]
  },
  {
   "cell_type": "code",
   "execution_count": 31,
   "metadata": {},
   "outputs": [],
   "source": [
    "@jit\n",
    "def measure_markov(config, T, trials):\n",
    "    E = energy_ising(config)\n",
    "    N = len(config)\n",
    "    densities = [0 for _ in range(-2*N, 2*N + 4, 4)]\n",
    "    energy_list = [int(i) for i in range(-2*N, 2*N + 4, 4)]\n",
    "    counter = 0\n",
    "    try:\n",
    "        initial_index = energy_list.index(E)\n",
    "        densities[initial_index] += 1\n",
    "    except:\n",
    "        pass\n",
    "    j = 1\n",
    "    while counter <= trials:\n",
    "        config_new, E_new = markov_ising(config, E, T)\n",
    "        \n",
    "        if E_new in energy_list:\n",
    "            E = E_new\n",
    "            #print(E)\n",
    "            config = config_new\n",
    "            if counter == 500*j:\n",
    "                indice = energy_list.index(E)\n",
    "                densities[indice] += 1\n",
    "                j += 1\n",
    "            if counter == int(trials/4):\n",
    "                print(\"al 25\")\n",
    "            counter += 1\n",
    "    \n",
    "        else:\n",
    "            pass\n",
    "    \n",
    "    return energy_list, densities\n"
   ]
  },
  {
   "cell_type": "code",
   "execution_count": 32,
   "metadata": {},
   "outputs": [],
   "source": [
    "@jit\n",
    "def thermo_ising(densities, energies, T):\n",
    "    Z = 0\n",
    "    N = len(energies)-1\n",
    "    beta = 1/T\n",
    "    expected_E = 0\n",
    "    expected_E2 = 0\n",
    "    for i, E in enumerate(energies):\n",
    "        E_prime = E \n",
    "        Z += densities[i]*np.exp(-beta*E_prime)\n",
    "        expected_E += E_prime*densities[i]*np.exp(-beta*E_prime)\n",
    "        expected_E2 += E_prime**2 *densities[i]*np.exp(-beta*E_prime)\n",
    "        \n",
    "    expected_E \n",
    "    expected_E2 \n",
    "    \n",
    "    cv = beta**2 * (expected_E2 - expected_E**2)/N\n",
    "    e_dens = (expected_E )/N\n",
    "\n",
    "    return e_dens, cv"
   ]
  },
  {
   "cell_type": "code",
   "execution_count": 6,
   "metadata": {},
   "outputs": [],
   "source": [
    "random_config = lambda x: rd.choice([1, -1])\n",
    "config = [random_config(x) for x in range(16)]\n",
    "trials = 10**4"
   ]
  },
  {
   "cell_type": "code",
   "execution_count": 7,
   "metadata": {},
   "outputs": [
    {
     "name": "stderr",
     "output_type": "stream",
     "text": [
      "c:\\Users\\vicex\\AppData\\Local\\Programs\\Python\\Python39\\lib\\site-packages\\awkward\\_cpu_kernels.py:9: DeprecationWarning: pkg_resources is deprecated as an API. See https://setuptools.pypa.io/en/latest/pkg_resources.html\n",
      "  import pkg_resources\n"
     ]
    }
   ],
   "source": [
    "temps = np.arange(0.5, 10, 0.5)\n",
    "cv = []\n",
    "e_dens = []\n",
    "for T in temps:\n",
    "    energies, densities = measure_markov(config, T, trials)\n",
    "    result = thermo_ising(densities, energies, T)\n",
    "    if T == 5.0:\n",
    "        print(\"temp 5\")\n",
    "    e_dens.append(result[0])\n",
    "    cv.append(result[1])\n"
   ]
  },
  {
   "cell_type": "code",
   "execution_count": 88,
   "metadata": {},
   "outputs": [
    {
     "data": {
      "text/plain": [
       "[<matplotlib.lines.Line2D at 0x1d21112cfa0>]"
      ]
     },
     "execution_count": 88,
     "metadata": {},
     "output_type": "execute_result"
    },
    {
     "data": {
      "image/png": "[encoded data removed]",
      "text/plain": [
       "<Figure size 600x400 with 1 Axes>"
      ]
     },
     "metadata": {
      "needs_background": "light"
     },
     "output_type": "display_data"
    }
   ],
   "source": [
    "fig, ax = plt.subplots(1, 1, dpi=100)\n",
    "ax.plot(temps, np.array(cv))"
   ]
  },
  {
   "cell_type": "markdown",
   "metadata": {},
   "source": [
    "### Markov_ising con magnetización"
   ]
  },
  {
   "cell_type": "code",
   "execution_count": 62,
   "metadata": {},
   "outputs": [],
   "source": [
    "\n",
    "def measure_magnet(config, T, trials):\n",
    "    E = energy_ising(config)\n",
    "    N = len(config)\n",
    "    \n",
    "    energy_list = [int(i) for i in range(-2*N, 2*N + 4, 4)]\n",
    "    magn_list = [int(i) for i in range(-N, N, 2)]\n",
    "    fila = len(energy_list)\n",
    "    columna = len(magn_list)\n",
    "\n",
    "    dens_EM = np.zeros((fila,columna), dtype=np.int64)\n",
    "\n",
    "    counter = 0\n",
    "    try:\n",
    "        E_init_index = energy_list.index(E)\n",
    "        M_init = np.sum(np.array(config))\n",
    "        M_init_index = magn_list.index(M_init)\n",
    "        dens_EM[E_init_index][M_init_index] += 1\n",
    "    except:\n",
    "        pass\n",
    "    j = 1\n",
    "    while counter <= trials:\n",
    "        config_new, E_new = markov_ising(config, E, T)\n",
    "        \n",
    "        if E_new in energy_list:\n",
    "            E = E_new\n",
    "            #print(E)\n",
    "            config = config_new\n",
    "\n",
    "            M = np.sum(np.array(config))\n",
    "            if M in magn_list:\n",
    "\n",
    "                if counter == 100*j:\n",
    "                    try:\n",
    "                        \n",
    "                        index_m = magn_list.index(M)\n",
    "                        index_e = energy_list.index(E)\n",
    "                        dens_EM[index_e][index_m] += 1\n",
    "                        j += 1\n",
    "                    except:\n",
    "                        print(\"falló\", index_e, index_m)\n",
    "                        print(M)\n",
    "                counter += 1\n",
    "    \n",
    "        else:\n",
    "            pass\n",
    "    return dens_EM, energy_list, magn_list"
   ]
  },
  {
   "cell_type": "code",
   "execution_count": 50,
   "metadata": {},
   "outputs": [],
   "source": [
    "\n",
    "def thermo_magnet(densities, energies, magnets, T):\n",
    "    Z = 0\n",
    "    N = len(densities[0])//2\n",
    "    beta = 1/T\n",
    "    expected_M = 0\n",
    "    \n",
    "    for i, E in enumerate(energies):\n",
    "        E_prime = E - np.min(energies)\n",
    "        for j, M in enumerate(magnets):\n",
    "            Z += densities[i][j]*np.exp(-beta*E_prime)\n",
    "            expected_M += densities[i][j]*M*np.exp(-beta*E_prime)\n",
    "\n",
    "    expected_M /= Z\n",
    "\n",
    "    return np.abs(expected_M)"
   ]
  },
  {
   "cell_type": "code",
   "execution_count": 110,
   "metadata": {},
   "outputs": [],
   "source": [
    "def measure_magnet2(config, T, trials):\n",
    "    E = energy_ising(config)\n",
    "    N = len(config)\n",
    "    \n",
    "    energy_list = [int(i) for i in range(-2*N, 2*N + 4, 4)]\n",
    "    magn_list = [int(i) for i in range(-N, N, 2)]\n",
    "    fila = len(energy_list)\n",
    "    columna = len(magn_list)\n",
    "\n",
    "    dens_EM = np.zeros((fila,columna), dtype=np.int64)\n",
    "    magnetization_values = []\n",
    "\n",
    "    counter = 0\n",
    "    try:\n",
    "        E_init_index = energy_list.index(E)\n",
    "        M_init = np.sum(np.array(config))\n",
    "        M_init_index = magn_list.index(M_init)\n",
    "        dens_EM[E_init_index][M_init_index] += 1\n",
    "    except:\n",
    "        pass\n",
    "    j = 1\n",
    "    while counter <= trials:\n",
    "        config_new, E_new = markov_ising(config, E, T)\n",
    "        \n",
    "        if E_new in energy_list:\n",
    "            E = E_new\n",
    "            #print(E)\n",
    "            config = config_new\n",
    "\n",
    "            M = np.sum(np.array(config))\n",
    "            if M in magn_list:\n",
    "                if counter == 100*j:\n",
    "                    try:\n",
    "                        magnetization_values.append(M)\n",
    "                        index_m = magn_list.index(M)\n",
    "                        index_e = energy_list.index(E)\n",
    "                        dens_EM[index_e][index_m] += 1\n",
    "                        j += 1\n",
    "                    except:\n",
    "                        print(\"falló\", index_e, index_m)\n",
    "                        print(M)\n",
    "                counter += 1\n",
    "    \n",
    "        else:\n",
    "            pass\n",
    "\n",
    "    abs_magn = np.abs(magnetization_values)\n",
    "    return dens_EM, energy_list, magn_list, np.mean(abs_magn)"
   ]
  },
  {
   "cell_type": "code",
   "execution_count": 111,
   "metadata": {},
   "outputs": [],
   "source": [
    "random_config_magn = lambda x: rd.choice([1, -1])\n",
    "config_magn = np.array([random_config_magn(x) for x in range(16)])\n",
    "trials = 10**4\n",
    "temps = np.arange(1.5, 5, 0.1)\n",
    "N = 16\n",
    "MvT_4x4 = []\n",
    "for T in temps:\n",
    "    dens_EM, energies, magnets, mean = measure_magnet2(config_magn, T, trials)\n",
    "    \n",
    "    #data_magn = thermo_magnet(dens_EM, energies, magnets, T)\n",
    "\n",
    "    \n",
    "    MvT_4x4.append(mean)"
   ]
  },
  {
   "cell_type": "code",
   "execution_count": 116,
   "metadata": {},
   "outputs": [],
   "source": [
    "random_config_magn = lambda x: rd.choice([1, -1])\n",
    "config_magn = np.array([random_config_magn(x) for x in range(64)])\n",
    "trials = 10**4\n",
    "temps = np.arange(1.5, 5, 0.1)\n",
    "N = 64\n",
    "MvT_8x8 = []\n",
    "for T in temps:\n",
    "    dens_EM, energies, magnets, mean = measure_magnet2(config_magn, T, trials)\n",
    "    \n",
    "    #data_magn = thermo_magnet(dens_EM, energies, magnets, T)\n",
    "\n",
    "    \n",
    "    MvT_8x8.append(mean)"
   ]
  },
  {
   "cell_type": "code",
   "execution_count": 120,
   "metadata": {},
   "outputs": [],
   "source": [
    "random_config_magn = lambda x: rd.choice([1, -1])\n",
    "config_magn = np.array([random_config_magn(x) for x in range(16**2)])\n",
    "trials = 10**4\n",
    "temps = np.arange(1.5, 5, 0.1)\n",
    "N = 16**2\n",
    "MvT_16 = []\n",
    "for T in temps:\n",
    "    dens_EM, energies, magnets, mean = measure_magnet2(config_magn, T, trials)\n",
    "    \n",
    "    #data_magn = thermo_magnet(dens_EM, energies, magnets, T)\n",
    "\n",
    "    \n",
    "    MvT_16.append(mean)"
   ]
  },
  {
   "cell_type": "code",
   "execution_count": 125,
   "metadata": {},
   "outputs": [
    {
     "data": {
      "text/plain": [
       "<matplotlib.legend.Legend at 0x2dd7cd4d6d0>"
      ]
     },
     "execution_count": 125,
     "metadata": {},
     "output_type": "execute_result"
    },
    {
     "data": {
      "image/png": "[encoded data removed]",
      "text/plain": [
       "<Figure size 720x480 with 1 Axes>"
      ]
     },
     "metadata": {
      "needs_background": "light"
     },
     "output_type": "display_data"
    }
   ],
   "source": [
    "fig, ax = plt.subplots(1, 1, dpi=120)\n",
    "N_4x4 = 16\n",
    "N_8x8 = 64\n",
    "N_16x16 = 16**2\n",
    "ax.plot(np.array(temps), np.array(MvT_4x4)/N_4x4, label=\"4x4\", ls=\"solid\", color=\"k\")\n",
    "ax.plot(np.array(temps), np.array(MvT_8x8)/N_8x8, label=\"8x8\", ls=\"dashed\", color=\"k\")\n",
    "ax.plot(np.array(temps), np.array(MvT_16)/N_16x16, label=\"16x16\", ls=\"dotted\", color=\"k\")\n",
    "ax.set_ylim(0, 1)\n",
    "\n",
    "ax.grid(alpha=0.25)\n",
    "ax.set_xlabel(\"Temperature (T)\")\n",
    "ax.set_ylabel(r\"Absolute magnetization $\\langle m \\rangle$\")\n",
    "ax.vlines(2.269, 0, 1, ls=\"dashed\", color=\"tab:red\", label=r\"$T_c$\")\n",
    "ax.legend()"
   ]
  }
 ],
 "metadata": {
  "kernelspec": {
   "display_name": "Python 3",
   "language": "python",
   "name": "python3"
  },
  "language_info": {
   "codemirror_mode": {
    "name": "ipython",
    "version": 3
   },
   "file_extension": ".py",
   "mimetype": "text/x-python",
   "name": "python",
   "nbconvert_exporter": "python",
   "pygments_lexer": "ipython3",
   "version": "3.9.8"
  }
 },
 "nbformat": 4,
 "nbformat_minor": 2
}
